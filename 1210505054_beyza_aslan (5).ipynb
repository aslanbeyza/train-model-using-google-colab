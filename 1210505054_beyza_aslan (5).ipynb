{
  "cells": [
    {
      "cell_type": "code",
      "execution_count": null,
      "metadata": {
        "id": "sQFCCb1KupQB"
      },
      "outputs": [],
      "source": [
        "import os\n",
        "import pandas as pd\n",
        "import numpy as np\n",
        "import matplotlib.pyplot as plt\n",
        "import seaborn as sns"
      ]
    },
    {
      "cell_type": "code",
      "execution_count": null,
      "metadata": {
        "colab": {
          "base_uri": "https://localhost:8080/"
        },
        "id": "UZRmcCWbFTrJ",
        "outputId": "22f8e055-d781-4de6-bb41-a55a24be357c"
      },
      "outputs": [
        {
          "name": "stdout",
          "output_type": "stream",
          "text": [
            "Drive already mounted at /content/drive; to attempt to forcibly remount, call drive.mount(\"/content/drive\", force_remount=True).\n"
          ]
        }
      ],
      "source": [
        "from google.colab import drive\n",
        "drive.mount('/content/drive')"
      ]
    },
    {
      "cell_type": "markdown",
      "metadata": {
        "id": "0fwosr4z9h3v"
      },
      "source": [
        "# Global değişkenler\n"
      ]
    },
    {
      "cell_type": "code",
      "execution_count": null,
      "metadata": {
        "id": "b8PJsJP3usgt"
      },
      "outputs": [],
      "source": [
        "IMG_SIZE =224\n",
        "seed = 42\n",
        "NUM_CLASSES = 4  #4 farklı klasör içindeydi\n",
        "BATCH_SIZE = 32\n",
        "EPOCHS = 100\n",
        "CLASSES = ['Bacterial_spot','Early_blight','Late_blight','Leaf_Mold'] #sınıflarımı tanımladım ve hücreyi çalıştırdım değişkenlerim hazır olsun diye. kasörde nasılsa aynı yazılması lazım!!"
      ]
    },
    {
      "cell_type": "code",
      "execution_count": null,
      "metadata": {
        "id": "d0kPcICcuvJ_"
      },
      "outputs": [],
      "source": [
        "TRAIN_DATADIR = '/content/drive/MyDrive/Colab/Hafta_11/train/'\n",
        "TEST_DATADIR =  '/content/drive/MyDrive/Colab/Hafta_11/test/'\n",
        "VAL_DATADIR =  '/content/drive/MyDrive/Colab/Hafta_11/val/'  #yolu kopyalayıp koyuyosunuz ya sona 1 / daha koyuyoruz unutmayın pls!!"
      ]
    },
    {
      "cell_type": "markdown",
      "metadata": {
        "id": "zLZWmWbF9pKR"
      },
      "source": [
        "# Train verilerinin ayarlanması"
      ]
    },
    {
      "cell_type": "code",
      "execution_count": null,
      "metadata": {
        "id": "Jrn18cK5uvRl"
      },
      "outputs": [],
      "source": [
        "import cv2\n",
        "\n",
        "training_data = []\n",
        "\n",
        "def creating_training_data():\n",
        "  for category in CLASSES:\n",
        "    path = os.path.join(TRAIN_DATADIR, category)\n",
        "    class_num = CLASSES.index(category)\n",
        "\n",
        "    for img in os.listdir(path):\n",
        "      try:\n",
        "        img_array = cv2.imread(os.path.join(path, img))\n",
        "        new_array = cv2.resize(img_array, (IMG_SIZE, IMG_SIZE))\n",
        "        training_data.append([new_array, class_num])\n",
        "      except Exception as e:\n",
        "        pass"
      ]
    },
    {
      "cell_type": "code",
      "execution_count": null,
      "metadata": {
        "colab": {
          "base_uri": "https://localhost:8080/"
        },
        "id": "p3lfRpk8uvY-",
        "outputId": "c5e8eeb7-35e6-41b6-ab90-e1b4727cd4d0"
      },
      "outputs": [
        {
          "name": "stdout",
          "output_type": "stream",
          "text": [
            "2091\n"
          ]
        }
      ],
      "source": [
        "creating_training_data()\n",
        "print(len(training_data))"
      ]
    },
    {
      "cell_type": "code",
      "execution_count": null,
      "metadata": {
        "id": "BNyFZ6PZuvgi"
      },
      "outputs": [],
      "source": [
        "testing_data = []\n",
        "\n",
        "def creating_testing_data():\n",
        "  for category in CLASSES:\n",
        "    path = os.path.join(TEST_DATADIR, category)\n",
        "    class_num = CLASSES.index(category)\n",
        "\n",
        "    for img in os.listdir(path):\n",
        "      try:\n",
        "        img_array = cv2.imread(os.path.join(path, img))\n",
        "        new_array = cv2.resize(img_array, (IMG_SIZE, IMG_SIZE))\n",
        "        testing_data.append([new_array, class_num])\n",
        "      except Exception as e:\n",
        "        pass"
      ]
    },
    {
      "cell_type": "code",
      "execution_count": null,
      "metadata": {
        "colab": {
          "base_uri": "https://localhost:8080/"
        },
        "id": "v_i1KW2Kuvne",
        "outputId": "159d229b-7168-4334-f66b-7854fdb20414"
      },
      "outputs": [
        {
          "name": "stdout",
          "output_type": "stream",
          "text": [
            "584\n"
          ]
        }
      ],
      "source": [
        "creating_testing_data()\n",
        "print(len(testing_data))"
      ]
    },
    {
      "cell_type": "code",
      "execution_count": null,
      "metadata": {
        "id": "GwodChBuuvuR"
      },
      "outputs": [],
      "source": [
        "validating_data = []\n",
        "\n",
        "def creating_validation_data():\n",
        "  for category in CLASSES:\n",
        "    path = os.path.join(VAL_DATADIR, category)\n",
        "    class_num = CLASSES.index(category)\n",
        "\n",
        "    for img in os.listdir(path):\n",
        "      try:\n",
        "        img_array = cv2.imread(os.path.join(path, img))\n",
        "        new_array = cv2.resize(img_array, (IMG_SIZE, IMG_SIZE))\n",
        "        validating_data.append([new_array, class_num])\n",
        "      except Exception as e:\n",
        "        pass"
      ]
    },
    {
      "cell_type": "code",
      "execution_count": null,
      "metadata": {
        "colab": {
          "base_uri": "https://localhost:8080/"
        },
        "id": "hRqN3iEduv0K",
        "outputId": "12cb0639-e9c5-4aad-db69-005ec44fdbca"
      },
      "outputs": [
        {
          "name": "stdout",
          "output_type": "stream",
          "text": [
            "231\n"
          ]
        }
      ],
      "source": [
        "creating_validation_data()\n",
        "print(len(validating_data))"
      ]
    },
    {
      "cell_type": "markdown",
      "metadata": {
        "id": "q64jJEFg-i6V"
      },
      "source": [
        "# Train,Test Validation görüntü ve labellerinin ayrılması\n"
      ]
    },
    {
      "cell_type": "code",
      "execution_count": null,
      "metadata": {
        "id": "vWKpRGBTuv8g"
      },
      "outputs": [],
      "source": [
        "X_training_data = []\n",
        "y_training_data = []\n",
        "\n",
        "for classes, label in training_data:\n",
        "  X_training_data.append(classes)\n",
        "  y_training_data.append(label)"
      ]
    },
    {
      "cell_type": "code",
      "execution_count": null,
      "metadata": {
        "id": "QqWVmEGEuwFc"
      },
      "outputs": [],
      "source": [
        "X_testing_data = []\n",
        "y_testing_data = []\n",
        "\n",
        "for classes, label in testing_data:\n",
        "  X_testing_data.append(classes)\n",
        "  y_testing_data.append(label)"
      ]
    },
    {
      "cell_type": "code",
      "execution_count": null,
      "metadata": {
        "id": "SQGxHN8Xu_SW"
      },
      "outputs": [],
      "source": [
        "X_validation_data = []\n",
        "y_validation_data = []\n",
        "\n",
        "for classes, label in validating_data:\n",
        "  X_validation_data.append(classes)\n",
        "  y_validation_data.append(label)"
      ]
    },
    {
      "cell_type": "markdown",
      "metadata": {
        "id": "mhlmxJ29-ynM"
      },
      "source": [
        "# Train, test , validation verilerinin numpy array'e çevirilmesi"
      ]
    },
    {
      "cell_type": "code",
      "execution_count": null,
      "metadata": {
        "id": "P66fg3niu_YO"
      },
      "outputs": [],
      "source": [
        "train_x = np.array(X_training_data)\n",
        "test_x = np.array(X_testing_data)"
      ]
    },
    {
      "cell_type": "code",
      "execution_count": null,
      "metadata": {
        "id": "NatcwXVvu_eo"
      },
      "outputs": [],
      "source": [
        "train_y = np.array(y_training_data)\n",
        "test_y = np.array(y_testing_data)"
      ]
    },
    {
      "cell_type": "code",
      "execution_count": null,
      "metadata": {
        "id": "i01oo6wvu_lp"
      },
      "outputs": [],
      "source": [
        "valid_x = np.array(X_validation_data)\n",
        "valid_y = np.array(y_validation_data)"
      ]
    },
    {
      "cell_type": "code",
      "execution_count": null,
      "metadata": {
        "colab": {
          "base_uri": "https://localhost:8080/"
        },
        "id": "i0R2wnbiu_sX",
        "outputId": "190147f8-087d-4fa4-9440-b4550c8ceed2"
      },
      "outputs": [
        {
          "name": "stdout",
          "output_type": "stream",
          "text": [
            "X_train shape: (2091, 224, 224, 3)\n",
            "y_train shape: (2091,)\n",
            "X_test shape: (584, 224, 224, 3)\n",
            "y_test shape: (584,)\n",
            "X_val shape: (231, 224, 224, 3)\n",
            "y_val shape: (231,)\n"
          ]
        }
      ],
      "source": [
        "print(\"X_train shape:\",train_x.shape )\n",
        "print(\"y_train shape:\",train_y.shape )\n",
        "print(\"X_test shape:\",test_x.shape )\n",
        "print(\"y_test shape:\",test_y.shape )\n",
        "print(\"X_val shape:\",valid_x.shape )\n",
        "print(\"y_val shape:\",valid_y.shape)"
      ]
    },
    {
      "cell_type": "markdown",
      "metadata": {
        "id": "OdUX1NwT_Bgh"
      },
      "source": [
        "# Train,test valiadtion verilerinin yaygın kullanım değişkenlerine atanması"
      ]
    },
    {
      "cell_type": "code",
      "execution_count": null,
      "metadata": {
        "id": "i3OGaK8au_zB"
      },
      "outputs": [],
      "source": [
        "x_train = train_x   #x_train  biz artık bunu eğiticez\n",
        "y_train = train_y   #y_train   bu da görüntülerin sınfları\n",
        "\n",
        "x_test = test_x\n",
        "y_test = test_y\n",
        "\n",
        "x_val = valid_x\n",
        "y_val = valid_y"
      ]
    },
    {
      "cell_type": "code",
      "execution_count": null,
      "metadata": {
        "colab": {
          "base_uri": "https://localhost:8080/"
        },
        "id": "ClCDxRHevJjj",
        "outputId": "3c7666a7-bf96-4cc4-9da1-b8aa70b589ff"
      },
      "outputs": [
        {
          "name": "stdout",
          "output_type": "stream",
          "text": [
            "X_train shape: (2091, 224, 224, 3)\n",
            "y_train shape: (2091,)\n",
            "X_test shape: (584, 224, 224, 3)\n",
            "y_test shape: (584,)\n",
            "X_val shape: (231, 224, 224, 3)\n",
            "y_val shape: (231,)\n"
          ]
        }
      ],
      "source": [
        "print(\"X_train shape:\",x_train.shape )\n",
        "print(\"y_train shape:\",y_train.shape )\n",
        "print(\"X_test shape:\",x_test.shape )\n",
        "print(\"y_test shape:\",y_test.shape )\n",
        "print(\"X_val shape:\",x_val.shape )\n",
        "print(\"y_val shape:\",y_val.shape)"
      ]
    },
    {
      "cell_type": "markdown",
      "metadata": {
        "id": "y24BLfzs_MtY"
      },
      "source": [
        "# Train,test validation verilerinin normalizasyonu"
      ]
    },
    {
      "cell_type": "code",
      "execution_count": null,
      "metadata": {
        "id": "7sYrgr6AvJo_"
      },
      "outputs": [],
      "source": [
        "#şimdi x_train üzerinde işlemler yapacağız\n",
        "x_train = x_train.astype('float32')\n",
        "x_train /= 255  # görüntü matrislerimizin içinde yer alan değerler  0 ve 255 arasında oldugu için  bu bolme var  Normallestirme islemini yapıyoruz  y ye niye yapmıyoruz cunku onlar görüntü etiketleri kategorik veriler old için onun işlemi farklı\n",
        "\n",
        "x_test = x_test.astype('float32')\n",
        "x_test /= 255\n",
        "\n",
        "x_val = x_val.astype('float32')\n",
        "x_val /= 255"
      ]
    },
    {
      "cell_type": "markdown",
      "metadata": {
        "id": "BTB1to8H_Uu-"
      },
      "source": [
        "#kategorik verilerin ayarlanması\n",
        "\n"
      ]
    },
    {
      "cell_type": "code",
      "execution_count": null,
      "metadata": {
        "id": "iolrqOM6vJug"
      },
      "outputs": [],
      "source": [
        "import tensorflow as tf\n",
        "\n",
        "y_train = tf.keras.utils.to_categorical(y_train, num_classes =  NUM_CLASSES)\n",
        "y_test = tf.keras.utils.to_categorical(y_test, num_classes =  NUM_CLASSES)\n",
        "y_val = tf.keras.utils.to_categorical(y_val, num_classes =  NUM_CLASSES)"
      ]
    },
    {
      "cell_type": "code",
      "execution_count": null,
      "metadata": {
        "colab": {
          "base_uri": "https://localhost:8080/"
        },
        "id": "aM-HeTADvKB4",
        "outputId": "d7be57ab-1668-43b0-9340-ce1a65016953"
      },
      "outputs": [
        {
          "name": "stdout",
          "output_type": "stream",
          "text": [
            "X_train shape: (2091, 224, 224, 3)\n",
            "y_train shape: (2091, 4)\n",
            "X_test shape: (584, 224, 224, 3)\n",
            "y_test shape: (584, 4)\n",
            "X_val shape: (231, 224, 224, 3)\n",
            "y_val shape: (231, 4)\n"
          ]
        }
      ],
      "source": [
        "print(\"X_train shape:\",x_train.shape )\n",
        "print(\"y_train shape:\",y_train.shape )\n",
        "\n",
        "print(\"X_test shape:\",x_test.shape )\n",
        "print(\"y_test shape:\",y_test.shape )\n",
        "\n",
        "print(\"X_val shape:\",x_val.shape )\n",
        "print(\"y_val shape:\",y_val.shape)\n"
      ]
    },
    {
      "cell_type": "markdown",
      "metadata": {
        "id": "m138V29597JA"
      },
      "source": [
        "# CNN MODELİNİN TASARLANMASI"
      ]
    },
    {
      "cell_type": "code",
      "execution_count": null,
      "metadata": {
        "id": "38XVts9dvKK3"
      },
      "outputs": [],
      "source": [
        "from tensorflow.keras import layers\n",
        "from tensorflow.keras.layers import Input, Dense, Activation, BatchNormalization, Flatten, Conv2D, MaxPooling2D, Dropout\n",
        "from tensorflow.keras.models import Sequential"
      ]
    },
    {
      "cell_type": "code",
      "execution_count": null,
      "metadata": {
        "id": "-NXmMbmAvVKd"
      },
      "outputs": [],
      "source": [
        "model = Sequential()\n",
        "\n",
        "#evrişim katmanları\n",
        "model.add(Conv2D(32, (3, 3), activation='relu', strides=(1, 1), padding='same', input_shape=(IMG_SIZE, IMG_SIZE, 3)))\n",
        "model.add(MaxPooling2D((2, 2)))\n",
        "model.add(BatchNormalization())\n",
        "\n",
        "model.add(Conv2D(64, (3, 3), activation='relu', strides=(1, 1), padding='same'))\n",
        "model.add(MaxPooling2D((2, 2)))\n",
        "model.add(BatchNormalization())\n",
        "\n",
        "model.add(Conv2D(128, (3, 3), activation='relu', strides=(1, 1), padding='same'))\n",
        "model.add(MaxPooling2D((2, 2)))\n",
        "model.add(BatchNormalization())\n",
        "\n",
        "#tam bağlantı (fully connected layer)\n",
        "model.add(Flatten())\n",
        "\n",
        "model.add(Dense(1024))\n",
        "model.add(BatchNormalization())\n",
        "model.add(Activation('relu'))\n",
        "model.add(Dropout(0.4))\n",
        "\n",
        "model.add(Dense(512))\n",
        "model.add(BatchNormalization())\n",
        "model.add(Activation('relu'))\n",
        "model.add(Dropout(0.4))\n",
        "\n",
        "model.add(Dense(256))\n",
        "model.add(BatchNormalization())\n",
        "model.add(Activation('relu'))\n",
        "model.add(Dropout(0.2))\n",
        "\n",
        "model.add(Dense(NUM_CLASSES))\n",
        "model.add(Activation('softmax'))"
      ]
    },
    {
      "cell_type": "code",
      "execution_count": null,
      "metadata": {
        "id": "xxwolZ6ovVQ4"
      },
      "outputs": [],
      "source": [
        "from tensorflow import keras\n",
        "\n",
        "callback_list = [\n",
        "    keras.callbacks.ModelCheckpoint(\n",
        "        filepath='best_model.keras',\n",
        "        monitor='val_loss',\n",
        "        save_best_only=True,\n",
        "        verbose = 1\n",
        "    ),\n",
        "    keras.callbacks.EarlyStopping(\n",
        "        monitor='val_loss',\n",
        "        patience=5,\n",
        "        verbose=1\n",
        "    )\n",
        "]"
      ]
    },
    {
      "cell_type": "code",
      "execution_count": null,
      "metadata": {
        "id": "jnG22jCevVWr"
      },
      "outputs": [],
      "source": [
        "model.compile(loss=\"categorical_crossentropy\", optimizer=\"adam\", metrics=[\"accuracy\"])"
      ]
    },
    {
      "cell_type": "code",
      "execution_count": null,
      "metadata": {
        "colab": {
          "base_uri": "https://localhost:8080/"
        },
        "id": "hzrlprnhvVdf",
        "outputId": "daf0a616-a559-4583-a312-35225ae6b25b"
      },
      "outputs": [
        {
          "name": "stdout",
          "output_type": "stream",
          "text": [
            "Epoch 1/100\n",
            "66/66 [==============================] - ETA: 0s - loss: 0.9801 - accuracy: 0.6055\n",
            "Epoch 1: val_loss improved from inf to 4.17693, saving model to best_model.keras\n",
            "66/66 [==============================] - 411s 6s/step - loss: 0.9801 - accuracy: 0.6055 - val_loss: 4.1769 - val_accuracy: 0.2727\n",
            "Epoch 2/100\n",
            "66/66 [==============================] - ETA: 0s - loss: 0.6562 - accuracy: 0.7446\n",
            "Epoch 2: val_loss did not improve from 4.17693\n",
            "66/66 [==============================] - 399s 6s/step - loss: 0.6562 - accuracy: 0.7446 - val_loss: 4.4275 - val_accuracy: 0.2727\n",
            "Epoch 3/100\n",
            "66/66 [==============================] - ETA: 0s - loss: 0.4898 - accuracy: 0.8111\n",
            "Epoch 3: val_loss did not improve from 4.17693\n",
            "66/66 [==============================] - 400s 6s/step - loss: 0.4898 - accuracy: 0.8111 - val_loss: 4.3257 - val_accuracy: 0.2727\n",
            "Epoch 4/100\n",
            "66/66 [==============================] - ETA: 0s - loss: 0.4319 - accuracy: 0.8288\n",
            "Epoch 4: val_loss improved from 4.17693 to 2.74204, saving model to best_model.keras\n",
            "66/66 [==============================] - 403s 6s/step - loss: 0.4319 - accuracy: 0.8288 - val_loss: 2.7420 - val_accuracy: 0.4156\n",
            "Epoch 5/100\n",
            "66/66 [==============================] - ETA: 0s - loss: 0.3558 - accuracy: 0.8575\n",
            "Epoch 5: val_loss did not improve from 2.74204\n",
            "66/66 [==============================] - 400s 6s/step - loss: 0.3558 - accuracy: 0.8575 - val_loss: 3.0275 - val_accuracy: 0.4156\n",
            "Epoch 6/100\n",
            "66/66 [==============================] - ETA: 0s - loss: 0.2816 - accuracy: 0.8852\n",
            "Epoch 6: val_loss improved from 2.74204 to 2.45668, saving model to best_model.keras\n",
            "66/66 [==============================] - 404s 6s/step - loss: 0.2816 - accuracy: 0.8852 - val_loss: 2.4567 - val_accuracy: 0.4848\n",
            "Epoch 7/100\n",
            "66/66 [==============================] - ETA: 0s - loss: 0.2232 - accuracy: 0.9177\n",
            "Epoch 7: val_loss improved from 2.45668 to 2.19051, saving model to best_model.keras\n",
            "66/66 [==============================] - 404s 6s/step - loss: 0.2232 - accuracy: 0.9177 - val_loss: 2.1905 - val_accuracy: 0.5065\n",
            "Epoch 8/100\n",
            "66/66 [==============================] - ETA: 0s - loss: 0.1871 - accuracy: 0.9330\n",
            "Epoch 8: val_loss improved from 2.19051 to 1.59255, saving model to best_model.keras\n",
            "66/66 [==============================] - 405s 6s/step - loss: 0.1871 - accuracy: 0.9330 - val_loss: 1.5926 - val_accuracy: 0.5714\n",
            "Epoch 9/100\n",
            "66/66 [==============================] - ETA: 0s - loss: 0.2114 - accuracy: 0.9259\n",
            "Epoch 9: val_loss improved from 1.59255 to 1.09255, saving model to best_model.keras\n",
            "66/66 [==============================] - 403s 6s/step - loss: 0.2114 - accuracy: 0.9259 - val_loss: 1.0925 - val_accuracy: 0.6883\n",
            "Epoch 10/100\n",
            "66/66 [==============================] - ETA: 0s - loss: 0.1787 - accuracy: 0.9369\n",
            "Epoch 10: val_loss improved from 1.09255 to 0.77671, saving model to best_model.keras\n",
            "66/66 [==============================] - 403s 6s/step - loss: 0.1787 - accuracy: 0.9369 - val_loss: 0.7767 - val_accuracy: 0.7922\n",
            "Epoch 11/100\n",
            "66/66 [==============================] - ETA: 0s - loss: 0.1294 - accuracy: 0.9565\n",
            "Epoch 11: val_loss improved from 0.77671 to 0.65571, saving model to best_model.keras\n",
            "66/66 [==============================] - 405s 6s/step - loss: 0.1294 - accuracy: 0.9565 - val_loss: 0.6557 - val_accuracy: 0.7749\n",
            "Epoch 12/100\n",
            "66/66 [==============================] - ETA: 0s - loss: 0.0820 - accuracy: 0.9737\n",
            "Epoch 12: val_loss did not improve from 0.65571\n",
            "66/66 [==============================] - 400s 6s/step - loss: 0.0820 - accuracy: 0.9737 - val_loss: 1.1510 - val_accuracy: 0.6926\n",
            "Epoch 13/100\n",
            "66/66 [==============================] - ETA: 0s - loss: 0.0833 - accuracy: 0.9727\n",
            "Epoch 13: val_loss did not improve from 0.65571\n",
            "66/66 [==============================] - 402s 6s/step - loss: 0.0833 - accuracy: 0.9727 - val_loss: 0.6768 - val_accuracy: 0.8485\n",
            "Epoch 14/100\n",
            "66/66 [==============================] - ETA: 0s - loss: 0.0781 - accuracy: 0.9737\n",
            "Epoch 14: val_loss did not improve from 0.65571\n",
            "66/66 [==============================] - 401s 6s/step - loss: 0.0781 - accuracy: 0.9737 - val_loss: 1.0562 - val_accuracy: 0.7706\n",
            "Epoch 15/100\n",
            "66/66 [==============================] - ETA: 0s - loss: 0.1095 - accuracy: 0.9651\n",
            "Epoch 15: val_loss did not improve from 0.65571\n",
            "66/66 [==============================] - 401s 6s/step - loss: 0.1095 - accuracy: 0.9651 - val_loss: 1.4616 - val_accuracy: 0.6277\n",
            "Epoch 16/100\n",
            "66/66 [==============================] - ETA: 0s - loss: 0.0879 - accuracy: 0.9732\n",
            "Epoch 16: val_loss did not improve from 0.65571\n",
            "66/66 [==============================] - 400s 6s/step - loss: 0.0879 - accuracy: 0.9732 - val_loss: 0.8597 - val_accuracy: 0.7835\n",
            "Epoch 16: early stopping\n"
          ]
        }
      ],
      "source": [
        "history = model.fit(x_train, y_train,\n",
        "                    batch_size = BATCH_SIZE,\n",
        "                    validation_data = (x_val, y_val),\n",
        "                    callbacks = callback_list,\n",
        "                    epochs = EPOCHS\n",
        "                    )"
      ]
    },
    {
      "cell_type": "code",
      "execution_count": null,
      "metadata": {
        "colab": {
          "base_uri": "https://localhost:8080/",
          "height": 488
        },
        "id": "-T3FtoWxvVj7",
        "outputId": "c257b24a-bc14-4b02-f18d-cce4a5c87be1"
      },
      "outputs": [
        {
          "data": {
            "text/plain": [
              "<Figure size 640x480 with 0 Axes>"
            ]
          },
          "execution_count": 27,
          "metadata": {},
          "output_type": "execute_result"
        },
        {
          "data": {
            "image/png": "[encoded data removed]",
            "text/plain": [
              "<Figure size 640x480 with 1 Axes>"
            ]
          },
          "metadata": {},
          "output_type": "display_data"
        },
        {
          "data": {
            "text/plain": [
              "<Figure size 640x480 with 0 Axes>"
            ]
          },
          "metadata": {},
          "output_type": "display_data"
        }
      ],
      "source": [
        "acc = history.history['accuracy']\n",
        "val_acc = history.history['val_accuracy']\n",
        "\n",
        "loss = history.history['loss']\n",
        "val_loss = history.history['val_loss']\n",
        "\n",
        "epochs = range(len(acc))\n",
        "\n",
        "plt.plot(epochs, acc, 'r', label='Training accuracy')\n",
        "plt.plot(epochs, val_acc, 'b', label='Validation accuracy')\n",
        "plt.title('Training and validation accuracy')\n",
        "plt.legend()\n",
        "plt.figure()"
      ]
    },
    {
      "cell_type": "markdown",
      "metadata": {
        "id": "m1CVxkJlzfNn"
      },
      "source": [
        "#CNN MODELİNİN PERFORMANS SONUÇLARI VE KARMAŞIKLIK GRAFİĞİ VE ROC GRAFİĞİ\n"
      ]
    },
    {
      "cell_type": "code",
      "execution_count": null,
      "metadata": {
        "colab": {
          "base_uri": "https://localhost:8080/"
        },
        "id": "kaLJ-U5yzcAB",
        "outputId": "605d8a58-555f-4e98-d49b-c11d0187f3a3"
      },
      "outputs": [
        {
          "name": "stdout",
          "output_type": "stream",
          "text": [
            "66/66 [==============================] - 56s 843ms/step - loss: 0.0106 - accuracy: 0.9967\n",
            "Train Accuracy:  0.9966523051261902\n"
          ]
        }
      ],
      "source": [
        "train_score = model.evaluate(x_train, y_train)\n",
        "print(\"Train Accuracy: \", train_score[1])"
      ]
    },
    {
      "cell_type": "code",
      "execution_count": null,
      "metadata": {
        "colab": {
          "base_uri": "https://localhost:8080/"
        },
        "id": "yhoNVGBKKmd1",
        "outputId": "a5bdece8-3af7-4d7f-d2e3-100d39f08230"
      },
      "outputs": [
        {
          "name": "stdout",
          "output_type": "stream",
          "text": [
            "8/8 [==============================] - 6s 772ms/step - loss: 0.8597 - accuracy: 0.7835\n",
            "Validation Accuracy:  0.7835497856140137\n"
          ]
        }
      ],
      "source": [
        "val_score = model.evaluate(x_val, y_val)\n",
        "print(\"Validation Accuracy: \", val_score[1])"
      ]
    },
    {
      "cell_type": "code",
      "execution_count": null,
      "metadata": {
        "colab": {
          "base_uri": "https://localhost:8080/"
        },
        "id": "AuzOCCYpKmoy",
        "outputId": "a61f1407-4e07-48fc-ad88-e693fc7d06c0"
      },
      "outputs": [
        {
          "name": "stdout",
          "output_type": "stream",
          "text": [
            "19/19 [==============================] - 15s 806ms/step - loss: 0.7247 - accuracy: 0.8390\n",
            "Test Accuracy:  0.8390411138534546\n"
          ]
        }
      ],
      "source": [
        "test_score = model.evaluate(x_test, y_test)\n",
        "print(\"Test Accuracy: \", test_score[1])"
      ]
    },
    {
      "cell_type": "code",
      "execution_count": null,
      "metadata": {
        "colab": {
          "base_uri": "https://localhost:8080/"
        },
        "id": "zEn1naiWKmv9",
        "outputId": "daea1e65-762d-4078-a4dd-fb945bf6ecc0"
      },
      "outputs": [
        {
          "name": "stdout",
          "output_type": "stream",
          "text": [
            "19/19 [==============================] - 16s 822ms/step\n"
          ]
        }
      ],
      "source": [
        "from sklearn.metrics import confusion_matrix\n",
        "\n",
        "y_pred = model.predict(x_test)\n",
        "y_pred_classes = np.argmax(y_pred, axis=1)\n",
        "\n",
        "y_test_classes = np.argmax(y_test, axis=1)\n",
        "\n",
        "cm = confusion_matrix(y_test_classes, y_pred_classes)"
      ]
    },
    {
      "cell_type": "code",
      "execution_count": null,
      "metadata": {
        "colab": {
          "base_uri": "https://localhost:8080/",
          "height": 641
        },
        "id": "5cDgcLbJKm5S",
        "outputId": "c61f742c-42dd-4d81-a0e2-b68a6cd44b4f"
      },
      "outputs": [
        {
          "data": {
            "image/png": "[encoded data removed]",
            "text/plain": [
              "<Figure size 1000x700 with 2 Axes>"
            ]
          },
          "metadata": {},
          "output_type": "display_data"
        }
      ],
      "source": [
        "plt.figure(figsize=(10, 7))\n",
        "sns.heatmap(cm, annot=True, fmt='d', cmap='Blues', xticklabels=CLASSES, yticklabels=CLASSES)\n",
        "plt.title(\"Confusion Matrix (Karmaşıklık Matrisi)\")\n",
        "plt.xlabel(\"Predicted Labels\")\n",
        "plt.ylabel(\"Real (True) Labels\")\n",
        "plt.show()"
      ]
    },
    {
      "cell_type": "code",
      "execution_count": null,
      "metadata": {
        "colab": {
          "base_uri": "https://localhost:8080/"
        },
        "id": "f7klI46pzcFy",
        "outputId": "39d6327a-094d-4087-dbd2-4bdcba256fe3"
      },
      "outputs": [
        {
          "name": "stdout",
          "output_type": "stream",
          "text": [
            "                precision    recall  f1-score   support\n",
            "\n",
            "Bacterial_spot       0.88      0.84      0.86       147\n",
            "  Early_blight       0.91      0.78      0.84       130\n",
            "   Late_blight       0.78      0.84      0.81       159\n",
            "     Leaf_Mold       0.82      0.89      0.85       148\n",
            "\n",
            "      accuracy                           0.84       584\n",
            "     macro avg       0.85      0.84      0.84       584\n",
            "  weighted avg       0.84      0.84      0.84       584\n",
            "\n"
          ]
        }
      ],
      "source": [
        "from sklearn.metrics import classification_report\n",
        "\n",
        "report = classification_report(y_test_classes, y_pred_classes, target_names=CLASSES)\n",
        "print(report)"
      ]
    },
    {
      "cell_type": "code",
      "execution_count": null,
      "metadata": {
        "colab": {
          "base_uri": "https://localhost:8080/",
          "height": 754
        },
        "id": "lzpuGnOczcL2",
        "outputId": "cb53cd76-52a0-46a1-a482-060fcd9a1902"
      },
      "outputs": [
        {
          "name": "stdout",
          "output_type": "stream",
          "text": [
            "19/19 [==============================] - 16s 828ms/step\n"
          ]
        },
        {
          "data": {
            "image/png": "[encoded data removed]",
            "text/plain": [
              "<Figure size 1000x800 with 1 Axes>"
            ]
          },
          "metadata": {},
          "output_type": "display_data"
        },
        {
          "name": "stdout",
          "output_type": "stream",
          "text": [
            "Mean AUC: 0.9577\n"
          ]
        }
      ],
      "source": [
        "from sklearn.metrics import roc_curve, auc\n",
        "import matplotlib.pyplot as plt\n",
        "from sklearn.preprocessing import label_binarize\n",
        "\n",
        "# Gerçek etiketler (sınıf sayısını belirtmek için 4 sınıf var)\n",
        "y_test_classes = np.argmax(y_test, axis=1)  # Gerçek sınıflar (etiketler)\n",
        "y_pred = model.predict(x_test)\n",
        "y_pred_probabilities = y_pred  # Olasılıkları alıyoruz\n",
        "\n",
        "# Sınıf etiketlerini ikili hale getiriyoruz (binarize) çünkü ROC için gereklidir\n",
        "y_test_bin = label_binarize(y_test_classes, classes=[0, 1, 2, 3])  # Sınıflar: 0, 1, 2, 3\n",
        "n_classes = y_test_bin.shape[1]  # Sınıf sayısı\n",
        "\n",
        "# ROC eğrisini çizmek için her sınıf için ROC eğrisini hesaplıyoruz\n",
        "fpr = dict()\n",
        "tpr = dict()\n",
        "roc_auc = dict()\n",
        "\n",
        "for i in range(n_classes):\n",
        "    fpr[i], tpr[i], _ = roc_curve(y_test_bin[:, i], y_pred_probabilities[:, i])\n",
        "    roc_auc[i] = auc(fpr[i], tpr[i])\n",
        "\n",
        "# Tüm sınıflar için ROC eğrisini çiziyoruz\n",
        "plt.figure(figsize=(10, 8))\n",
        "\n",
        "for i in range(n_classes):\n",
        "    plt.plot(fpr[i], tpr[i], lw=2, label='ROC curve (class {0}) AUC = {1:0.2f}'.format(i, roc_auc[i]))\n",
        "\n",
        "# Diagonal çizgiyi çiziyoruz (rastgele tahminin grafiği)\n",
        "plt.plot([0, 1], [0, 1], color='navy', lw=2, linestyle='--')\n",
        "\n",
        "# Grafik etiketlerini ve başlığını ekliyoruz\n",
        "plt.xlabel('False Positive Rate')\n",
        "plt.ylabel('True Positive Rate')\n",
        "plt.title('Receiver Operating Characteristic (ROC) Curve')\n",
        "plt.legend(loc=\"lower right\")\n",
        "plt.show()\n",
        "\n",
        "# Ortalama AUC\n",
        "mean_auc = np.mean(list(roc_auc.values()))\n",
        "print(f'Mean AUC: {mean_auc:.4f}')\n"
      ]
    },
    {
      "cell_type": "markdown",
      "metadata": {
        "id": "BHCd4gFBacCx"
      },
      "source": []
    },
    {
      "cell_type": "markdown",
      "metadata": {
        "id": "6ksJ_WBIAXxH"
      },
      "source": [
        "# **RESNET50** *Transfer Öğrenme (TRANSFER LEARNİNG)*"
      ]
    },
    {
      "cell_type": "code",
      "execution_count": null,
      "metadata": {
        "colab": {
          "base_uri": "https://localhost:8080/"
        },
        "id": "QcltjITh3ItN",
        "outputId": "767465e9-4197-4313-8afd-03b52a81fc7e"
      },
      "outputs": [
        {
          "name": "stdout",
          "output_type": "stream",
          "text": [
            "Downloading data from https://storage.googleapis.com/tensorflow/keras-applications/resnet/resnet50v2_weights_tf_dim_ordering_tf_kernels_notop.h5\n",
            "\u001b[1m94668760/94668760\u001b[0m \u001b[32m━━━━━━━━━━━━━━━━━━━━\u001b[0m\u001b[37m\u001b[0m \u001b[1m1s\u001b[0m 0us/step\n"
          ]
        }
      ],
      "source": [
        "from tensorflow.keras.applications import ResNet50V2\n",
        "from tensorflow.keras import models, layers\n",
        "\n",
        "input_layer = layers.Input(shape=(IMG_SIZE, IMG_SIZE, 3))\n",
        "\n",
        "model_resnet50V2 = ResNet50V2(weights='imagenet',\n",
        "                              input_tensor=input_layer,\n",
        "                              include_top=False)\n",
        "\n",
        "last_layer = model_resnet50V2.output\n",
        "flatten = layers.Flatten()(last_layer)\n",
        "output_layer = layers.Dense(NUM_CLASSES, activation='softmax')(flatten)\n",
        "\n",
        "model_resnet50V2 = models.Model(inputs=input_layer, outputs=output_layer)"
      ]
    },
    {
      "cell_type": "code",
      "execution_count": null,
      "metadata": {
        "id": "WVFjCO4g3IzW"
      },
      "outputs": [],
      "source": [
        "for layer in model_resnet50V2.layers[:-1]:\n",
        "  layer.trainable = False"
      ]
    },
    {
      "cell_type": "code",
      "execution_count": null,
      "metadata": {
        "id": "B4Ovfcc3EAsE"
      },
      "outputs": [],
      "source": [
        "model_resnet50V2.compile(optimizer='adam', loss='categorical_crossentropy', metrics=['accuracy'])\n"
      ]
    },
    {
      "cell_type": "code",
      "execution_count": null,
      "metadata": {
        "colab": {
          "base_uri": "https://localhost:8080/",
          "height": 810
        },
        "id": "msMBbaeuEAy9",
        "outputId": "70fab560-00dc-4f8f-b59c-7394dc2b63b2"
      },
      "outputs": [
        {
          "name": "stdout",
          "output_type": "stream",
          "text": [
            "Epoch 1/100\n",
            "\u001b[1m66/66\u001b[0m \u001b[32m━━━━━━━━━━━━━━━━━━━━\u001b[0m\u001b[37m\u001b[0m \u001b[1m432s\u001b[0m 6s/step - accuracy: 0.5553 - loss: 5.7147 - val_accuracy: 0.7706 - val_loss: 2.4978\n",
            "Epoch 2/100\n",
            "\u001b[1m66/66\u001b[0m \u001b[32m━━━━━━━━━━━━━━━━━━━━\u001b[0m\u001b[37m\u001b[0m \u001b[1m470s\u001b[0m 7s/step - accuracy: 0.9167 - loss: 0.5824 - val_accuracy: 0.7749 - val_loss: 2.2857\n",
            "Epoch 3/100\n",
            "\u001b[1m66/66\u001b[0m \u001b[32m━━━━━━━━━━━━━━━━━━━━\u001b[0m\u001b[37m\u001b[0m \u001b[1m502s\u001b[0m 7s/step - accuracy: 0.9645 - loss: 0.1958 - val_accuracy: 0.8009 - val_loss: 2.0533\n",
            "Epoch 4/100\n",
            "\u001b[1m66/66\u001b[0m \u001b[32m━━━━━━━━━━━━━━━━━━━━\u001b[0m\u001b[37m\u001b[0m \u001b[1m487s\u001b[0m 7s/step - accuracy: 0.9799 - loss: 0.1083 - val_accuracy: 0.8442 - val_loss: 2.2692\n",
            "Epoch 5/100\n",
            "\u001b[1m66/66\u001b[0m \u001b[32m━━━━━━━━━━━━━━━━━━━━\u001b[0m\u001b[37m\u001b[0m \u001b[1m546s\u001b[0m 8s/step - accuracy: 0.9871 - loss: 0.0712 - val_accuracy: 0.8485 - val_loss: 2.2544\n",
            "Epoch 6/100\n",
            "\u001b[1m66/66\u001b[0m \u001b[32m━━━━━━━━━━━━━━━━━━━━\u001b[0m\u001b[37m\u001b[0m \u001b[1m531s\u001b[0m 8s/step - accuracy: 0.9951 - loss: 0.0125 - val_accuracy: 0.8701 - val_loss: 2.2001\n",
            "Epoch 7/100\n",
            "\u001b[1m66/66\u001b[0m \u001b[32m━━━━━━━━━━━━━━━━━━━━\u001b[0m\u001b[37m\u001b[0m \u001b[1m436s\u001b[0m 6s/step - accuracy: 0.9970 - loss: 0.0130 - val_accuracy: 0.8268 - val_loss: 2.4265\n",
            "Epoch 8/100\n",
            "\u001b[1m66/66\u001b[0m \u001b[32m━━━━━━━━━━━━━━━━━━━━\u001b[0m\u001b[37m\u001b[0m \u001b[1m392s\u001b[0m 6s/step - accuracy: 0.9976 - loss: 0.0084 - val_accuracy: 0.8571 - val_loss: 2.1319\n",
            "Epoch 9/100\n",
            "\u001b[1m66/66\u001b[0m \u001b[32m━━━━━━━━━━━━━━━━━━━━\u001b[0m\u001b[37m\u001b[0m \u001b[1m435s\u001b[0m 6s/step - accuracy: 0.9989 - loss: 0.0018 - val_accuracy: 0.8355 - val_loss: 2.3702\n",
            "Epoch 10/100\n",
            "\u001b[1m66/66\u001b[0m \u001b[32m━━━━━━━━━━━━━━━━━━━━\u001b[0m\u001b[37m\u001b[0m \u001b[1m387s\u001b[0m 6s/step - accuracy: 0.9997 - loss: 7.1051e-04 - val_accuracy: 0.8528 - val_loss: 1.9856\n",
            "Epoch 11/100\n",
            "\u001b[1m55/66\u001b[0m \u001b[32m━━━━━━━━━━━━━━━━\u001b[0m\u001b[37m━━━━\u001b[0m \u001b[1m58s\u001b[0m 5s/step - accuracy: 1.0000 - loss: 2.9583e-04 "
          ]
        },
        {
          "ename": "KeyboardInterrupt",
          "evalue": "",
          "output_type": "error",
          "traceback": [
            "\u001b[0;31m---------------------------------------------------------------------------\u001b[0m",
            "\u001b[0;31mKeyboardInterrupt\u001b[0m                         Traceback (most recent call last)",
            "\u001b[0;32m<ipython-input-38-81b36c9cc5d2>\u001b[0m in \u001b[0;36m<cell line: 1>\u001b[0;34m()\u001b[0m\n\u001b[0;32m----> 1\u001b[0;31m history_resnet50V2 = model_resnet50V2.fit(x_train, y_train,\n\u001b[0m\u001b[1;32m      2\u001b[0m                     \u001b[0mbatch_size\u001b[0m \u001b[0;34m=\u001b[0m \u001b[0mBATCH_SIZE\u001b[0m\u001b[0;34m,\u001b[0m\u001b[0;34m\u001b[0m\u001b[0;34m\u001b[0m\u001b[0m\n\u001b[1;32m      3\u001b[0m                     \u001b[0mvalidation_data\u001b[0m \u001b[0;34m=\u001b[0m \u001b[0;34m(\u001b[0m\u001b[0mx_val\u001b[0m\u001b[0;34m,\u001b[0m \u001b[0my_val\u001b[0m\u001b[0;34m)\u001b[0m\u001b[0;34m,\u001b[0m\u001b[0;34m\u001b[0m\u001b[0;34m\u001b[0m\u001b[0m\n\u001b[1;32m      4\u001b[0m                     \u001b[0mepochs\u001b[0m \u001b[0;34m=\u001b[0m \u001b[0mEPOCHS\u001b[0m\u001b[0;34m\u001b[0m\u001b[0;34m\u001b[0m\u001b[0m\n\u001b[1;32m      5\u001b[0m                     )\n",
            "\u001b[0;32m/usr/local/lib/python3.10/dist-packages/keras/src/utils/traceback_utils.py\u001b[0m in \u001b[0;36merror_handler\u001b[0;34m(*args, **kwargs)\u001b[0m\n\u001b[1;32m    115\u001b[0m         \u001b[0mfiltered_tb\u001b[0m \u001b[0;34m=\u001b[0m \u001b[0;32mNone\u001b[0m\u001b[0;34m\u001b[0m\u001b[0;34m\u001b[0m\u001b[0m\n\u001b[1;32m    116\u001b[0m         \u001b[0;32mtry\u001b[0m\u001b[0;34m:\u001b[0m\u001b[0;34m\u001b[0m\u001b[0;34m\u001b[0m\u001b[0m\n\u001b[0;32m--> 117\u001b[0;31m             \u001b[0;32mreturn\u001b[0m \u001b[0mfn\u001b[0m\u001b[0;34m(\u001b[0m\u001b[0;34m*\u001b[0m\u001b[0margs\u001b[0m\u001b[0;34m,\u001b[0m \u001b[0;34m**\u001b[0m\u001b[0mkwargs\u001b[0m\u001b[0;34m)\u001b[0m\u001b[0;34m\u001b[0m\u001b[0;34m\u001b[0m\u001b[0m\n\u001b[0m\u001b[1;32m    118\u001b[0m         \u001b[0;32mexcept\u001b[0m \u001b[0mException\u001b[0m \u001b[0;32mas\u001b[0m \u001b[0me\u001b[0m\u001b[0;34m:\u001b[0m\u001b[0;34m\u001b[0m\u001b[0;34m\u001b[0m\u001b[0m\n\u001b[1;32m    119\u001b[0m             \u001b[0mfiltered_tb\u001b[0m \u001b[0;34m=\u001b[0m \u001b[0m_process_traceback_frames\u001b[0m\u001b[0;34m(\u001b[0m\u001b[0me\u001b[0m\u001b[0;34m.\u001b[0m\u001b[0m__traceback__\u001b[0m\u001b[0;34m)\u001b[0m\u001b[0;34m\u001b[0m\u001b[0;34m\u001b[0m\u001b[0m\n",
            "\u001b[0;32m/usr/local/lib/python3.10/dist-packages/keras/src/backend/tensorflow/trainer.py\u001b[0m in \u001b[0;36mfit\u001b[0;34m(self, x, y, batch_size, epochs, verbose, callbacks, validation_split, validation_data, shuffle, class_weight, sample_weight, initial_epoch, steps_per_epoch, validation_steps, validation_batch_size, validation_freq)\u001b[0m\n\u001b[1;32m    318\u001b[0m                 \u001b[0;32mfor\u001b[0m \u001b[0mstep\u001b[0m\u001b[0;34m,\u001b[0m \u001b[0miterator\u001b[0m \u001b[0;32min\u001b[0m \u001b[0mepoch_iterator\u001b[0m\u001b[0;34m.\u001b[0m\u001b[0menumerate_epoch\u001b[0m\u001b[0;34m(\u001b[0m\u001b[0;34m)\u001b[0m\u001b[0;34m:\u001b[0m\u001b[0;34m\u001b[0m\u001b[0;34m\u001b[0m\u001b[0m\n\u001b[1;32m    319\u001b[0m                     \u001b[0mcallbacks\u001b[0m\u001b[0;34m.\u001b[0m\u001b[0mon_train_batch_begin\u001b[0m\u001b[0;34m(\u001b[0m\u001b[0mstep\u001b[0m\u001b[0;34m)\u001b[0m\u001b[0;34m\u001b[0m\u001b[0;34m\u001b[0m\u001b[0m\n\u001b[0;32m--> 320\u001b[0;31m                     \u001b[0mlogs\u001b[0m \u001b[0;34m=\u001b[0m \u001b[0mself\u001b[0m\u001b[0;34m.\u001b[0m\u001b[0mtrain_function\u001b[0m\u001b[0;34m(\u001b[0m\u001b[0miterator\u001b[0m\u001b[0;34m)\u001b[0m\u001b[0;34m\u001b[0m\u001b[0;34m\u001b[0m\u001b[0m\n\u001b[0m\u001b[1;32m    321\u001b[0m                     \u001b[0mlogs\u001b[0m \u001b[0;34m=\u001b[0m \u001b[0mself\u001b[0m\u001b[0;34m.\u001b[0m\u001b[0m_pythonify_logs\u001b[0m\u001b[0;34m(\u001b[0m\u001b[0mlogs\u001b[0m\u001b[0;34m)\u001b[0m\u001b[0;34m\u001b[0m\u001b[0;34m\u001b[0m\u001b[0m\n\u001b[1;32m    322\u001b[0m                     \u001b[0mcallbacks\u001b[0m\u001b[0;34m.\u001b[0m\u001b[0mon_train_batch_end\u001b[0m\u001b[0;34m(\u001b[0m\u001b[0mstep\u001b[0m\u001b[0;34m,\u001b[0m \u001b[0mlogs\u001b[0m\u001b[0;34m)\u001b[0m\u001b[0;34m\u001b[0m\u001b[0;34m\u001b[0m\u001b[0m\n",
            "\u001b[0;32m/usr/local/lib/python3.10/dist-packages/tensorflow/python/util/traceback_utils.py\u001b[0m in \u001b[0;36merror_handler\u001b[0;34m(*args, **kwargs)\u001b[0m\n\u001b[1;32m    148\u001b[0m     \u001b[0mfiltered_tb\u001b[0m \u001b[0;34m=\u001b[0m \u001b[0;32mNone\u001b[0m\u001b[0;34m\u001b[0m\u001b[0;34m\u001b[0m\u001b[0m\n\u001b[1;32m    149\u001b[0m     \u001b[0;32mtry\u001b[0m\u001b[0;34m:\u001b[0m\u001b[0;34m\u001b[0m\u001b[0;34m\u001b[0m\u001b[0m\n\u001b[0;32m--> 150\u001b[0;31m       \u001b[0;32mreturn\u001b[0m \u001b[0mfn\u001b[0m\u001b[0;34m(\u001b[0m\u001b[0;34m*\u001b[0m\u001b[0margs\u001b[0m\u001b[0;34m,\u001b[0m \u001b[0;34m**\u001b[0m\u001b[0mkwargs\u001b[0m\u001b[0;34m)\u001b[0m\u001b[0;34m\u001b[0m\u001b[0;34m\u001b[0m\u001b[0m\n\u001b[0m\u001b[1;32m    151\u001b[0m     \u001b[0;32mexcept\u001b[0m \u001b[0mException\u001b[0m \u001b[0;32mas\u001b[0m \u001b[0me\u001b[0m\u001b[0;34m:\u001b[0m\u001b[0;34m\u001b[0m\u001b[0;34m\u001b[0m\u001b[0m\n\u001b[1;32m    152\u001b[0m       \u001b[0mfiltered_tb\u001b[0m \u001b[0;34m=\u001b[0m \u001b[0m_process_traceback_frames\u001b[0m\u001b[0;34m(\u001b[0m\u001b[0me\u001b[0m\u001b[0;34m.\u001b[0m\u001b[0m__traceback__\u001b[0m\u001b[0;34m)\u001b[0m\u001b[0;34m\u001b[0m\u001b[0;34m\u001b[0m\u001b[0m\n",
            "\u001b[0;32m/usr/local/lib/python3.10/dist-packages/tensorflow/python/eager/polymorphic_function/polymorphic_function.py\u001b[0m in \u001b[0;36m__call__\u001b[0;34m(self, *args, **kwds)\u001b[0m\n\u001b[1;32m    831\u001b[0m \u001b[0;34m\u001b[0m\u001b[0m\n\u001b[1;32m    832\u001b[0m       \u001b[0;32mwith\u001b[0m \u001b[0mOptionalXlaContext\u001b[0m\u001b[0;34m(\u001b[0m\u001b[0mself\u001b[0m\u001b[0;34m.\u001b[0m\u001b[0m_jit_compile\u001b[0m\u001b[0;34m)\u001b[0m\u001b[0;34m:\u001b[0m\u001b[0;34m\u001b[0m\u001b[0;34m\u001b[0m\u001b[0m\n\u001b[0;32m--> 833\u001b[0;31m         \u001b[0mresult\u001b[0m \u001b[0;34m=\u001b[0m \u001b[0mself\u001b[0m\u001b[0;34m.\u001b[0m\u001b[0m_call\u001b[0m\u001b[0;34m(\u001b[0m\u001b[0;34m*\u001b[0m\u001b[0margs\u001b[0m\u001b[0;34m,\u001b[0m \u001b[0;34m**\u001b[0m\u001b[0mkwds\u001b[0m\u001b[0;34m)\u001b[0m\u001b[0;34m\u001b[0m\u001b[0;34m\u001b[0m\u001b[0m\n\u001b[0m\u001b[1;32m    834\u001b[0m \u001b[0;34m\u001b[0m\u001b[0m\n\u001b[1;32m    835\u001b[0m       \u001b[0mnew_tracing_count\u001b[0m \u001b[0;34m=\u001b[0m \u001b[0mself\u001b[0m\u001b[0;34m.\u001b[0m\u001b[0mexperimental_get_tracing_count\u001b[0m\u001b[0;34m(\u001b[0m\u001b[0;34m)\u001b[0m\u001b[0;34m\u001b[0m\u001b[0;34m\u001b[0m\u001b[0m\n",
            "\u001b[0;32m/usr/local/lib/python3.10/dist-packages/tensorflow/python/eager/polymorphic_function/polymorphic_function.py\u001b[0m in \u001b[0;36m_call\u001b[0;34m(self, *args, **kwds)\u001b[0m\n\u001b[1;32m    876\u001b[0m       \u001b[0;31m# In this case we have not created variables on the first call. So we can\u001b[0m\u001b[0;34m\u001b[0m\u001b[0;34m\u001b[0m\u001b[0m\n\u001b[1;32m    877\u001b[0m       \u001b[0;31m# run the first trace but we should fail if variables are created.\u001b[0m\u001b[0;34m\u001b[0m\u001b[0;34m\u001b[0m\u001b[0m\n\u001b[0;32m--> 878\u001b[0;31m       results = tracing_compilation.call_function(\n\u001b[0m\u001b[1;32m    879\u001b[0m           \u001b[0margs\u001b[0m\u001b[0;34m,\u001b[0m \u001b[0mkwds\u001b[0m\u001b[0;34m,\u001b[0m \u001b[0mself\u001b[0m\u001b[0;34m.\u001b[0m\u001b[0m_variable_creation_config\u001b[0m\u001b[0;34m\u001b[0m\u001b[0;34m\u001b[0m\u001b[0m\n\u001b[1;32m    880\u001b[0m       )\n",
            "\u001b[0;32m/usr/local/lib/python3.10/dist-packages/tensorflow/python/eager/polymorphic_function/tracing_compilation.py\u001b[0m in \u001b[0;36mcall_function\u001b[0;34m(args, kwargs, tracing_options)\u001b[0m\n\u001b[1;32m    137\u001b[0m   \u001b[0mbound_args\u001b[0m \u001b[0;34m=\u001b[0m \u001b[0mfunction\u001b[0m\u001b[0;34m.\u001b[0m\u001b[0mfunction_type\u001b[0m\u001b[0;34m.\u001b[0m\u001b[0mbind\u001b[0m\u001b[0;34m(\u001b[0m\u001b[0;34m*\u001b[0m\u001b[0margs\u001b[0m\u001b[0;34m,\u001b[0m \u001b[0;34m**\u001b[0m\u001b[0mkwargs\u001b[0m\u001b[0;34m)\u001b[0m\u001b[0;34m\u001b[0m\u001b[0;34m\u001b[0m\u001b[0m\n\u001b[1;32m    138\u001b[0m   \u001b[0mflat_inputs\u001b[0m \u001b[0;34m=\u001b[0m \u001b[0mfunction\u001b[0m\u001b[0;34m.\u001b[0m\u001b[0mfunction_type\u001b[0m\u001b[0;34m.\u001b[0m\u001b[0munpack_inputs\u001b[0m\u001b[0;34m(\u001b[0m\u001b[0mbound_args\u001b[0m\u001b[0;34m)\u001b[0m\u001b[0;34m\u001b[0m\u001b[0;34m\u001b[0m\u001b[0m\n\u001b[0;32m--> 139\u001b[0;31m   return function._call_flat(  # pylint: disable=protected-access\n\u001b[0m\u001b[1;32m    140\u001b[0m       \u001b[0mflat_inputs\u001b[0m\u001b[0;34m,\u001b[0m \u001b[0mcaptured_inputs\u001b[0m\u001b[0;34m=\u001b[0m\u001b[0mfunction\u001b[0m\u001b[0;34m.\u001b[0m\u001b[0mcaptured_inputs\u001b[0m\u001b[0;34m\u001b[0m\u001b[0;34m\u001b[0m\u001b[0m\n\u001b[1;32m    141\u001b[0m   )\n",
            "\u001b[0;32m/usr/local/lib/python3.10/dist-packages/tensorflow/python/eager/polymorphic_function/concrete_function.py\u001b[0m in \u001b[0;36m_call_flat\u001b[0;34m(self, tensor_inputs, captured_inputs)\u001b[0m\n\u001b[1;32m   1320\u001b[0m         and executing_eagerly):\n\u001b[1;32m   1321\u001b[0m       \u001b[0;31m# No tape is watching; skip to running the function.\u001b[0m\u001b[0;34m\u001b[0m\u001b[0;34m\u001b[0m\u001b[0m\n\u001b[0;32m-> 1322\u001b[0;31m       \u001b[0;32mreturn\u001b[0m \u001b[0mself\u001b[0m\u001b[0;34m.\u001b[0m\u001b[0m_inference_function\u001b[0m\u001b[0;34m.\u001b[0m\u001b[0mcall_preflattened\u001b[0m\u001b[0;34m(\u001b[0m\u001b[0margs\u001b[0m\u001b[0;34m)\u001b[0m\u001b[0;34m\u001b[0m\u001b[0;34m\u001b[0m\u001b[0m\n\u001b[0m\u001b[1;32m   1323\u001b[0m     forward_backward = self._select_forward_and_backward_functions(\n\u001b[1;32m   1324\u001b[0m         \u001b[0margs\u001b[0m\u001b[0;34m,\u001b[0m\u001b[0;34m\u001b[0m\u001b[0;34m\u001b[0m\u001b[0m\n",
            "\u001b[0;32m/usr/local/lib/python3.10/dist-packages/tensorflow/python/eager/polymorphic_function/atomic_function.py\u001b[0m in \u001b[0;36mcall_preflattened\u001b[0;34m(self, args)\u001b[0m\n\u001b[1;32m    214\u001b[0m   \u001b[0;32mdef\u001b[0m \u001b[0mcall_preflattened\u001b[0m\u001b[0;34m(\u001b[0m\u001b[0mself\u001b[0m\u001b[0;34m,\u001b[0m \u001b[0margs\u001b[0m\u001b[0;34m:\u001b[0m \u001b[0mSequence\u001b[0m\u001b[0;34m[\u001b[0m\u001b[0mcore\u001b[0m\u001b[0;34m.\u001b[0m\u001b[0mTensor\u001b[0m\u001b[0;34m]\u001b[0m\u001b[0;34m)\u001b[0m \u001b[0;34m->\u001b[0m \u001b[0mAny\u001b[0m\u001b[0;34m:\u001b[0m\u001b[0;34m\u001b[0m\u001b[0;34m\u001b[0m\u001b[0m\n\u001b[1;32m    215\u001b[0m     \u001b[0;34m\"\"\"Calls with flattened tensor inputs and returns the structured output.\"\"\"\u001b[0m\u001b[0;34m\u001b[0m\u001b[0;34m\u001b[0m\u001b[0m\n\u001b[0;32m--> 216\u001b[0;31m     \u001b[0mflat_outputs\u001b[0m \u001b[0;34m=\u001b[0m \u001b[0mself\u001b[0m\u001b[0;34m.\u001b[0m\u001b[0mcall_flat\u001b[0m\u001b[0;34m(\u001b[0m\u001b[0;34m*\u001b[0m\u001b[0margs\u001b[0m\u001b[0;34m)\u001b[0m\u001b[0;34m\u001b[0m\u001b[0;34m\u001b[0m\u001b[0m\n\u001b[0m\u001b[1;32m    217\u001b[0m     \u001b[0;32mreturn\u001b[0m \u001b[0mself\u001b[0m\u001b[0;34m.\u001b[0m\u001b[0mfunction_type\u001b[0m\u001b[0;34m.\u001b[0m\u001b[0mpack_output\u001b[0m\u001b[0;34m(\u001b[0m\u001b[0mflat_outputs\u001b[0m\u001b[0;34m)\u001b[0m\u001b[0;34m\u001b[0m\u001b[0;34m\u001b[0m\u001b[0m\n\u001b[1;32m    218\u001b[0m \u001b[0;34m\u001b[0m\u001b[0m\n",
            "\u001b[0;32m/usr/local/lib/python3.10/dist-packages/tensorflow/python/eager/polymorphic_function/atomic_function.py\u001b[0m in \u001b[0;36mcall_flat\u001b[0;34m(self, *args)\u001b[0m\n\u001b[1;32m    249\u001b[0m         \u001b[0;32mwith\u001b[0m \u001b[0mrecord\u001b[0m\u001b[0;34m.\u001b[0m\u001b[0mstop_recording\u001b[0m\u001b[0;34m(\u001b[0m\u001b[0;34m)\u001b[0m\u001b[0;34m:\u001b[0m\u001b[0;34m\u001b[0m\u001b[0;34m\u001b[0m\u001b[0m\n\u001b[1;32m    250\u001b[0m           \u001b[0;32mif\u001b[0m \u001b[0mself\u001b[0m\u001b[0;34m.\u001b[0m\u001b[0m_bound_context\u001b[0m\u001b[0;34m.\u001b[0m\u001b[0mexecuting_eagerly\u001b[0m\u001b[0;34m(\u001b[0m\u001b[0;34m)\u001b[0m\u001b[0;34m:\u001b[0m\u001b[0;34m\u001b[0m\u001b[0;34m\u001b[0m\u001b[0m\n\u001b[0;32m--> 251\u001b[0;31m             outputs = self._bound_context.call_function(\n\u001b[0m\u001b[1;32m    252\u001b[0m                 \u001b[0mself\u001b[0m\u001b[0;34m.\u001b[0m\u001b[0mname\u001b[0m\u001b[0;34m,\u001b[0m\u001b[0;34m\u001b[0m\u001b[0;34m\u001b[0m\u001b[0m\n\u001b[1;32m    253\u001b[0m                 \u001b[0mlist\u001b[0m\u001b[0;34m(\u001b[0m\u001b[0margs\u001b[0m\u001b[0;34m)\u001b[0m\u001b[0;34m,\u001b[0m\u001b[0;34m\u001b[0m\u001b[0;34m\u001b[0m\u001b[0m\n",
            "\u001b[0;32m/usr/local/lib/python3.10/dist-packages/tensorflow/python/eager/context.py\u001b[0m in \u001b[0;36mcall_function\u001b[0;34m(self, name, tensor_inputs, num_outputs)\u001b[0m\n\u001b[1;32m   1550\u001b[0m     \u001b[0mcancellation_context\u001b[0m \u001b[0;34m=\u001b[0m \u001b[0mcancellation\u001b[0m\u001b[0;34m.\u001b[0m\u001b[0mcontext\u001b[0m\u001b[0;34m(\u001b[0m\u001b[0;34m)\u001b[0m\u001b[0;34m\u001b[0m\u001b[0;34m\u001b[0m\u001b[0m\n\u001b[1;32m   1551\u001b[0m     \u001b[0;32mif\u001b[0m \u001b[0mcancellation_context\u001b[0m \u001b[0;32mis\u001b[0m \u001b[0;32mNone\u001b[0m\u001b[0;34m:\u001b[0m\u001b[0;34m\u001b[0m\u001b[0;34m\u001b[0m\u001b[0m\n\u001b[0;32m-> 1552\u001b[0;31m       outputs = execute.execute(\n\u001b[0m\u001b[1;32m   1553\u001b[0m           \u001b[0mname\u001b[0m\u001b[0;34m.\u001b[0m\u001b[0mdecode\u001b[0m\u001b[0;34m(\u001b[0m\u001b[0;34m\"utf-8\"\u001b[0m\u001b[0;34m)\u001b[0m\u001b[0;34m,\u001b[0m\u001b[0;34m\u001b[0m\u001b[0;34m\u001b[0m\u001b[0m\n\u001b[1;32m   1554\u001b[0m           \u001b[0mnum_outputs\u001b[0m\u001b[0;34m=\u001b[0m\u001b[0mnum_outputs\u001b[0m\u001b[0;34m,\u001b[0m\u001b[0;34m\u001b[0m\u001b[0;34m\u001b[0m\u001b[0m\n",
            "\u001b[0;32m/usr/local/lib/python3.10/dist-packages/tensorflow/python/eager/execute.py\u001b[0m in \u001b[0;36mquick_execute\u001b[0;34m(op_name, num_outputs, inputs, attrs, ctx, name)\u001b[0m\n\u001b[1;32m     51\u001b[0m   \u001b[0;32mtry\u001b[0m\u001b[0;34m:\u001b[0m\u001b[0;34m\u001b[0m\u001b[0;34m\u001b[0m\u001b[0m\n\u001b[1;32m     52\u001b[0m     \u001b[0mctx\u001b[0m\u001b[0;34m.\u001b[0m\u001b[0mensure_initialized\u001b[0m\u001b[0;34m(\u001b[0m\u001b[0;34m)\u001b[0m\u001b[0;34m\u001b[0m\u001b[0;34m\u001b[0m\u001b[0m\n\u001b[0;32m---> 53\u001b[0;31m     tensors = pywrap_tfe.TFE_Py_Execute(ctx._handle, device_name, op_name,\n\u001b[0m\u001b[1;32m     54\u001b[0m                                         inputs, attrs, num_outputs)\n\u001b[1;32m     55\u001b[0m   \u001b[0;32mexcept\u001b[0m \u001b[0mcore\u001b[0m\u001b[0;34m.\u001b[0m\u001b[0m_NotOkStatusException\u001b[0m \u001b[0;32mas\u001b[0m \u001b[0me\u001b[0m\u001b[0;34m:\u001b[0m\u001b[0;34m\u001b[0m\u001b[0;34m\u001b[0m\u001b[0m\n",
            "\u001b[0;31mKeyboardInterrupt\u001b[0m: "
          ]
        }
      ],
      "source": [
        "history_resnet50V2 = model_resnet50V2.fit(x_train, y_train,\n",
        "                    batch_size = BATCH_SIZE,\n",
        "                    validation_data = (x_val, y_val),\n",
        "                    epochs = EPOCHS\n",
        "                    )"
      ]
    },
    {
      "cell_type": "code",
      "execution_count": null,
      "metadata": {
        "id": "Fwg56-oRFaQ1"
      },
      "outputs": [],
      "source": [
        "train_resnet50V2_score = model_resnet50V2.evaluate(x_train, y_train)\n",
        "print(\"RESNET50V2 Train Accuracy: \", train_resnet50V2_score[1])\n",
        "\n",
        "test_resnet50V2_score = model_resnet50V2.evaluate(x_test, y_test)\n",
        "print(\"\\nRESNET50V2 Test Accuracy: \", test_resnet50V2_score[1])\n",
        "\n",
        "val_resnet50V2_score = model_resnet50V2.evaluate(x_val, y_val)\n",
        "print(\"\\nRESNET50V2 Validation Accuracy: \", val_resnet50V2_score[1])"
      ]
    },
    {
      "cell_type": "markdown",
      "metadata": {
        "id": "5lUU8oNhM9X5"
      },
      "source": [
        "# DENSENET121 Transfer Öğrenme  ( Transfer Öğrenme"
      ]
    },
    {
      "cell_type": "code",
      "execution_count": null,
      "metadata": {
        "id": "ghpMsSjfNG06"
      },
      "outputs": [],
      "source": [
        "from tensorflow.keras.applications import DenseNet121\n",
        "from tensorflow.keras import models, layers\n",
        "\n",
        "input_layer = layers.Input(shape=(IMG_SIZE, IMG_SIZE, 3))\n",
        "\n",
        "model_densenet121 = DenseNet121(weights='imagenet',\n",
        "                              input_tensor=input_layer,\n",
        "                              include_top=False)\n",
        "\n",
        "last_layer = model_densenet121.output\n",
        "flatten = layers.Flatten()(last_layer)\n",
        "output_layer = layers.Dense(NUM_CLASSES, activation='softmax')(flatten)\n",
        "\n",
        "model_densenet121 = models.Model(inputs=input_layer, outputs=output_layer)"
      ]
    },
    {
      "cell_type": "code",
      "execution_count": null,
      "metadata": {
        "id": "xzNdiO62NJz0"
      },
      "outputs": [],
      "source": [
        "for layer in model_densenet121.layers[:-1]:\n",
        "  layer.trainable = False"
      ]
    },
    {
      "cell_type": "code",
      "execution_count": null,
      "metadata": {
        "id": "A0dqZah2NJ7I"
      },
      "outputs": [],
      "source": [
        "model_densenet121.compile(optimizer='adam', loss='categorical_crossentropy', metrics=['accuracy'])\n"
      ]
    },
    {
      "cell_type": "code",
      "execution_count": null,
      "metadata": {
        "id": "CVvUxFEgNKDh"
      },
      "outputs": [],
      "source": [
        "history_densenet121 = model_densenet121.fit(x_train, y_train,\n",
        "                    batch_size = BATCH_SIZE,\n",
        "                    validation_data = (x_val, y_val),\n",
        "                    epochs = EPOCHS\n",
        "                    )"
      ]
    },
    {
      "cell_type": "code",
      "execution_count": null,
      "metadata": {
        "id": "SLn85tOMNPvT"
      },
      "outputs": [],
      "source": [
        "train_densenet121_score = model_densenet121.evaluate(x_train, y_train)\n",
        "print(\"DENSENET121 Train Accuracy: \", train_densenet121_score[1])\n",
        "\n",
        "test_densenet121_score = model_densenet121.evaluate(x_test, y_test)\n",
        "print(\"\\nDENSENET121 Test Accuracy: \", test_densenet121_score[1])\n",
        "\n",
        "val_densenet121_score = model_densenet121.evaluate(x_val, y_val)\n",
        "print(\"\\nDENSENET121 Validation Accuracy: \", val_densenet121_score[1])"
      ]
    },
    {
      "cell_type": "markdown",
      "metadata": {
        "id": "Tp5P38ZSOSNl"
      },
      "source": [
        "# EfficientNetB0"
      ]
    },
    {
      "cell_type": "code",
      "execution_count": null,
      "metadata": {
        "colab": {
          "base_uri": "https://localhost:8080/"
        },
        "id": "t7x2LwQHOfOb",
        "outputId": "7a559ac8-7684-4375-b873-3eac263c8137"
      },
      "outputs": [
        {
          "name": "stdout",
          "output_type": "stream",
          "text": [
            "Downloading data from https://storage.googleapis.com/keras-applications/efficientnetb0_notop.h5\n",
            "\u001b[1m16705208/16705208\u001b[0m \u001b[32m━━━━━━━━━━━━━━━━━━━━\u001b[0m\u001b[37m\u001b[0m \u001b[1m0s\u001b[0m 0us/step\n"
          ]
        }
      ],
      "source": [
        "from tensorflow.keras.applications import EfficientNetB0\n",
        "from tensorflow.keras import models, layers\n",
        "\n",
        "# EfficientNetB0 için giriş katmanını tanımlayın\n",
        "input_layer = layers.Input(shape=(IMG_SIZE, IMG_SIZE, 3))\n",
        "\n",
        "# EfficientNetB0 modelini yükleyin\n",
        "model_efficientnetb0 = EfficientNetB0(weights='imagenet',\n",
        "                                      input_tensor=input_layer,\n",
        "                                      include_top=False)\n",
        "\n",
        "# Son katmanları ekleyin\n",
        "last_layer = model_efficientnetb0.output\n",
        "flatten = layers.Flatten()(last_layer)\n",
        "output_layer = layers.Dense(NUM_CLASSES, activation='softmax')(flatten)\n",
        "\n",
        "# Modeli tanımlayın\n",
        "model_efficientnetb0 = models.Model(inputs=input_layer, outputs=output_layer)\n"
      ]
    },
    {
      "cell_type": "code",
      "execution_count": null,
      "metadata": {
        "id": "5JdKSAo_PRsC"
      },
      "outputs": [],
      "source": [
        "# EfficientNetB0 modelinin son katmanı hariç diğer katmanları dondur\n",
        "for layer in model_efficientnetb0.layers[-3:]:\n",
        "    layer.trainable = False"
      ]
    },
    {
      "cell_type": "code",
      "execution_count": null,
      "metadata": {
        "id": "QTnRVFxPPRzX"
      },
      "outputs": [],
      "source": [
        "model_efficientnetb0.compile(optimizer='adam', loss='categorical_crossentropy', metrics=['accuracy'])"
      ]
    },
    {
      "cell_type": "code",
      "execution_count": null,
      "metadata": {
        "colab": {
          "background_save": true,
          "base_uri": "https://localhost:8080/"
        },
        "id": "nHcW8icBPR7F",
        "outputId": "58de1232-9a52-432a-bd68-f2ca1652324d"
      },
      "outputs": [
        {
          "name": "stdout",
          "output_type": "stream",
          "text": [
            "Epoch 1/100\n",
            "\u001b[1m66/66\u001b[0m \u001b[32m━━━━━━━━━━━━━━━━━━━━\u001b[0m\u001b[37m\u001b[0m \u001b[1m689s\u001b[0m 10s/step - accuracy: 0.6616 - loss: 0.8417 - val_accuracy: 0.2208 - val_loss: 1.4580\n",
            "Epoch 2/100\n",
            "\u001b[1m66/66\u001b[0m \u001b[32m━━━━━━━━━━━━━━━━━━━━\u001b[0m\u001b[37m\u001b[0m \u001b[1m664s\u001b[0m 9s/step - accuracy: 0.9563 - loss: 0.1309 - val_accuracy: 0.2727 - val_loss: 1.4137\n",
            "Epoch 3/100\n",
            "\u001b[1m66/66\u001b[0m \u001b[32m━━━━━━━━━━━━━━━━━━━━\u001b[0m\u001b[37m\u001b[0m \u001b[1m622s\u001b[0m 9s/step - accuracy: 0.9813 - loss: 0.0538 - val_accuracy: 0.2554 - val_loss: 1.4457\n",
            "Epoch 4/100\n",
            "\u001b[1m66/66\u001b[0m \u001b[32m━━━━━━━━━━━━━━━━━━━━\u001b[0m\u001b[37m\u001b[0m \u001b[1m624s\u001b[0m 9s/step - accuracy: 0.9975 - loss: 0.0190 - val_accuracy: 0.2727 - val_loss: 1.4092\n",
            "Epoch 5/100\n",
            "\u001b[1m66/66\u001b[0m \u001b[32m━━━━━━━━━━━━━━━━━━━━\u001b[0m\u001b[37m\u001b[0m \u001b[1m693s\u001b[0m 10s/step - accuracy: 0.9962 - loss: 0.0116 - val_accuracy: 0.2814 - val_loss: 1.4203\n",
            "Epoch 6/100\n",
            "\u001b[1m28/66\u001b[0m \u001b[32m━━━━━━━━\u001b[0m\u001b[37m━━━━━━━━━━━━\u001b[0m \u001b[1m5:48\u001b[0m 9s/step - accuracy: 0.9955 - loss: 0.0159"
          ]
        }
      ],
      "source": [
        "history_efficientnetb0 = model_efficientnetb0.fit(\n",
        "    x_train, y_train,\n",
        "    batch_size=BATCH_SIZE,\n",
        "    validation_data=(x_val, y_val),\n",
        "    epochs=EPOCHS\n",
        ")"
      ]
    },
    {
      "cell_type": "code",
      "execution_count": null,
      "metadata": {
        "id": "xbayCUW7PSEx"
      },
      "outputs": [],
      "source": [
        "train_efficientnetb0_score = model_efficientnetb0.evaluate(x_train, y_train)\n",
        "print(\"EfficientNetB0 Train Accuracy: \", train_efficientnetb0_score[1])\n",
        "\n",
        "test_efficientnetb0_score = model_efficientnetb0.evaluate(x_test, y_test)\n",
        "print(\"\\nEfficientNetB0 Test Accuracy: \", test_efficientnetb0_score[1])\n",
        "\n",
        "val_efficientnetb0_score = model_efficientnetb0.evaluate(x_val, y_val)\n",
        "print(\"\\nEfficientNetB0 Validation Accuracy: \", val_efficientnetb0_score[1])\n"
      ]
    },
    {
      "cell_type": "markdown",
      "metadata": {
        "id": "ulsxZ0t1QSuI"
      },
      "source": [
        "# EfficientNetB1"
      ]
    },
    {
      "cell_type": "code",
      "execution_count": null,
      "metadata": {
        "id": "GPviRNpjQKV5"
      },
      "outputs": [],
      "source": [
        "from tensorflow.keras.applications import EfficientNetB1\n",
        "from tensorflow.keras import models, layers\n",
        "\n",
        "# EfficientNetB1 için giriş katmanı\n",
        "input_layer = layers.Input(shape=(IMG_SIZE, IMG_SIZE, 3))\n",
        "\n",
        "# EfficientNetB1 modelini yükleyin\n",
        "model_efficientnetb1 = EfficientNetB1(weights='imagenet',\n",
        "                                      input_tensor=input_layer,\n",
        "                                      include_top=False)\n",
        "\n",
        "# Son katmanları ekleyin\n",
        "last_layer = model_efficientnetb1.output\n",
        "flatten = layers.Flatten()(last_layer)\n",
        "output_layer = layers.Dense(NUM_CLASSES, activation='softmax')(flatten)\n",
        "\n",
        "# Modeli tanımlayın\n",
        "model_efficientnetb1 = models.Model(inputs=input_layer, outputs=output_layer)\n"
      ]
    },
    {
      "cell_type": "code",
      "execution_count": null,
      "metadata": {
        "id": "5ikWW3t-QKec"
      },
      "outputs": [],
      "source": [
        "for layer in model_efficientnetb1.layers[:-1]:\n",
        "    layer.trainable = False\n"
      ]
    },
    {
      "cell_type": "code",
      "execution_count": null,
      "metadata": {
        "id": "peEkVbrPQKmi"
      },
      "outputs": [],
      "source": [
        "model_efficientnetb1.compile(\n",
        "    optimizer='adam',\n",
        "    loss='categorical_crossentropy',\n",
        "    metrics=['accuracy']\n",
        ")\n"
      ]
    },
    {
      "cell_type": "code",
      "execution_count": null,
      "metadata": {
        "id": "1vlbZp_UQKw8"
      },
      "outputs": [],
      "source": [
        "history_efficientnetb1 = model_efficientnetb1.fit(\n",
        "    x_train, y_train,\n",
        "    batch_size=BATCH_SIZE,\n",
        "    validation_data=(x_val, y_val),\n",
        "    epochs=EPOCHS\n",
        ")\n"
      ]
    },
    {
      "cell_type": "code",
      "execution_count": null,
      "metadata": {
        "id": "x3wg2nMtQK5B"
      },
      "outputs": [],
      "source": [
        "# Eğitim veri seti doğruluğunu ölç\n",
        "train_efficientnetb1_score = model_efficientnetb1.evaluate(x_train, y_train)\n",
        "print(\"EfficientNetB1 Train Accuracy: \", train_efficientnetb1_score[1])\n",
        "\n",
        "# Test veri seti doğruluğunu ölç\n",
        "test_efficientnetb1_score = model_efficientnetb1.evaluate(x_test, y_test)\n",
        "print(\"\\nEfficientNetB1 Test Accuracy: \", test_efficientnetb1_score[1])\n",
        "\n",
        "# Doğrulama veri seti doğruluğunu ölç\n",
        "val_efficientnetb1_score = model_efficientnetb1.evaluate(x_val, y_val)\n",
        "print(\"\\nEfficientNetB1 Validation Accuracy: \", val_efficientnetb1_score[1])\n"
      ]
    },
    {
      "cell_type": "markdown",
      "metadata": {
        "id": "fNyiS1TERncd"
      },
      "source": [
        "# EfficientNetB2"
      ]
    },
    {
      "cell_type": "code",
      "execution_count": null,
      "metadata": {
        "id": "kqKVOHqJQLBU"
      },
      "outputs": [],
      "source": [
        "from tensorflow.keras.applications import EfficientNetB2\n",
        "from tensorflow.keras import models, layers\n",
        "\n",
        "# EfficientNetB1 için giriş katmanı\n",
        "input_layer = layers.Input(shape=(IMG_SIZE, IMG_SIZE, 3))\n",
        "\n",
        "# EfficientNetB1 modelini yükleyin\n",
        "model_efficientnetb1 = EfficientNetB2(weights='imagenet',\n",
        "                                      input_tensor=input_layer,\n",
        "                                      include_top=False)\n",
        "\n",
        "# Son katmanları ekleyin\n",
        "last_layer = model_efficientnetb2.output\n",
        "flatten = layers.Flatten()(last_layer)\n",
        "output_layer = layers.Dense(NUM_CLASSES, activation='softmax')(flatten)\n",
        "\n",
        "# Modeli tanımlayın\n",
        "model_efficientnetb2 = models.Model(inputs=input_layer, outputs=output_layer)\n"
      ]
    },
    {
      "cell_type": "code",
      "execution_count": null,
      "metadata": {
        "id": "6iZgVb3NQLKJ"
      },
      "outputs": [],
      "source": [
        "for layer in model_efficientnetb2.layers[:-1]:\n",
        "    layer.trainable = False\n"
      ]
    },
    {
      "cell_type": "code",
      "execution_count": null,
      "metadata": {
        "id": "N9blnEjmQLSm"
      },
      "outputs": [],
      "source": [
        "model_efficientnetb2.compile(\n",
        "    optimizer='adam',\n",
        "    loss='categorical_crossentropy',\n",
        "    metrics=['accuracy']\n",
        ")\n"
      ]
    },
    {
      "cell_type": "code",
      "execution_count": null,
      "metadata": {
        "id": "sbl-rFeAQLaG"
      },
      "outputs": [],
      "source": [
        "history_efficientnetb2 = model_efficientnetb2.fit(\n",
        "    x_train, y_train,\n",
        "    batch_size=BATCH_SIZE,\n",
        "    validation_data=(x_val, y_val),\n",
        "    epochs=EPOCHS\n",
        ")\n"
      ]
    },
    {
      "cell_type": "code",
      "execution_count": null,
      "metadata": {
        "id": "fas2gpjuQLjx"
      },
      "outputs": [],
      "source": [
        "# Eğitim veri seti doğruluğunu ölç\n",
        "train_efficientnetb2_score = model_efficientnetb2.evaluate(x_train, y_train)\n",
        "print(\"EfficientNetB2 Train Accuracy: \", train_efficientnetb2_score[1])\n",
        "\n",
        "# Test veri seti doğruluğunu ölç\n",
        "test_efficientnetb2_score = model_efficientnetb2.evaluate(x_test, y_test)\n",
        "print(\"\\nEfficientNetB2 Test Accuracy: \", test_efficientnetb2_score[1])\n",
        "\n",
        "# Doğrulama veri seti doğruluğunu ölç\n",
        "val_efficientnetb2_score = model_efficientnetb2.evaluate(x_val, y_val)\n",
        "print(\"\\nEfficientNetB2 Validation Accuracy: \", val_efficientnetb2_score[1])\n"
      ]
    },
    {
      "cell_type": "markdown",
      "metadata": {
        "id": "08Aph021THUI"
      },
      "source": [
        "# EfficientNetB3"
      ]
    },
    {
      "cell_type": "code",
      "execution_count": null,
      "metadata": {
        "id": "H78-UbVPQL8D"
      },
      "outputs": [],
      "source": [
        "from tensorflow.keras.applications import EfficientNetB3\n",
        "from tensorflow.keras import models, layers\n",
        "\n",
        "# EfficientNetB1 için giriş katmanı\n",
        "input_layer = layers.Input(shape=(IMG_SIZE, IMG_SIZE, 3))\n",
        "\n",
        "# EfficientNetB1 modelini yükleyin\n",
        "model_efficientnetb3 = EfficientNetB3(weights='imagenet',\n",
        "                                      input_tensor=input_layer,\n",
        "                                      include_top=False)\n",
        "\n",
        "# Son katmanları ekleyin\n",
        "last_layer = model_efficientnetb3.output\n",
        "flatten = layers.Flatten()(last_layer)\n",
        "output_layer = layers.Dense(NUM_CLASSES, activation='softmax')(flatten)\n",
        "\n",
        "# Modeli tanımlayın\n",
        "model_efficientnetb3 = models.Model(inputs=input_layer, outputs=output_layer)\n"
      ]
    },
    {
      "cell_type": "code",
      "execution_count": null,
      "metadata": {
        "id": "enb2ZGLdQMEX"
      },
      "outputs": [],
      "source": [
        "for layer in model_efficientnetb3.layers[:-1]:\n",
        "    layer.trainable = False\n"
      ]
    },
    {
      "cell_type": "code",
      "execution_count": null,
      "metadata": {
        "id": "poO2AjQIQMNc"
      },
      "outputs": [],
      "source": [
        "model_efficientnetb3.compile(\n",
        "    optimizer='adam',\n",
        "    loss='categorical_crossentropy',\n",
        "    metrics=['accuracy']\n",
        ")\n"
      ]
    },
    {
      "cell_type": "code",
      "execution_count": null,
      "metadata": {
        "id": "EvqUfrGUQMVV"
      },
      "outputs": [],
      "source": [
        "history_efficientnetb3 = model_efficientnetb3.fit(\n",
        "    x_train, y_train,\n",
        "    batch_size=BATCH_SIZE,\n",
        "    validation_data=(x_val, y_val),\n",
        "    epochs=EPOCHS\n",
        ")\n"
      ]
    },
    {
      "cell_type": "code",
      "execution_count": null,
      "metadata": {
        "id": "KEy1N4tPQMd6"
      },
      "outputs": [],
      "source": [
        "# Eğitim veri seti doğruluğunu ölç\n",
        "train_efficientnetb3_score = model_efficientnetb3.evaluate(x_train, y_train)\n",
        "print(\"EfficientNetB3 Train Accuracy: \", train_efficientnetb3_score[1])\n",
        "\n",
        "# Test veri seti doğruluğunu ölç\n",
        "test_efficientnetb3_score = model_efficientnetb3.evaluate(x_test, y_test)\n",
        "print(\"\\nEfficientNetB3 Test Accuracy: \", test_efficientnetb3_score[1])\n",
        "\n",
        "# Doğrulama veri seti doğruluğunu ölç\n",
        "val_efficientnetb3_score = model_efficientnetb3.evaluate(x_val, y_val)\n",
        "print(\"\\nEfficientNetB3 Validation Accuracy: \", val_efficientnetb3_score[1])\n"
      ]
    },
    {
      "cell_type": "markdown",
      "metadata": {
        "id": "Et5Tzb-YVH63"
      },
      "source": [
        "# EfficientNetB4"
      ]
    },
    {
      "cell_type": "code",
      "execution_count": null,
      "metadata": {
        "id": "kHWU8BgqQMnE"
      },
      "outputs": [],
      "source": [
        "from tensorflow.keras.applications import EfficientNetB4\n",
        "from tensorflow.keras import models, layers\n",
        "\n",
        "# EfficientNetB1 için giriş katmanı\n",
        "input_layer = layers.Input(shape=(IMG_SIZE, IMG_SIZE, 3))\n",
        "\n",
        "# EfficientNetB1 modelini yükleyin\n",
        "model_efficientnetb4 = EfficientNetB4(weights='imagenet',\n",
        "                                      input_tensor=input_layer,\n",
        "                                      include_top=False)\n",
        "\n",
        "# Son katmanları ekleyin\n",
        "last_layer = model_efficientnetb4.output\n",
        "flatten = layers.Flatten()(last_layer)\n",
        "output_layer = layers.Dense(NUM_CLASSES, activation='softmax')(flatten)\n",
        "\n",
        "# Modeli tanımlayın\n",
        "model_efficientnetb4 = models.Model(inputs=input_layer, outputs=output_layer)\n"
      ]
    },
    {
      "cell_type": "code",
      "execution_count": null,
      "metadata": {
        "id": "UxBaJw7VVMOn"
      },
      "outputs": [],
      "source": [
        "for layer in model_efficientnetb4.layers[:-1]:\n",
        "    layer.trainable = False\n"
      ]
    },
    {
      "cell_type": "code",
      "execution_count": null,
      "metadata": {
        "id": "0TK4NLeXVMV1"
      },
      "outputs": [],
      "source": [
        "model_efficientnetb4.compile(\n",
        "    optimizer='adam',\n",
        "    loss='categorical_crossentropy',\n",
        "    metrics=['accuracy']\n",
        ")\n"
      ]
    },
    {
      "cell_type": "code",
      "execution_count": null,
      "metadata": {
        "id": "TXASWpzkVMds"
      },
      "outputs": [],
      "source": [
        "history_efficientnetb4 = model_efficientnetb4.fit(\n",
        "    x_train, y_train,\n",
        "    batch_size=BATCH_SIZE,\n",
        "    validation_data=(x_val, y_val),\n",
        "    epochs=EPOCHS\n",
        ")\n"
      ]
    },
    {
      "cell_type": "code",
      "execution_count": null,
      "metadata": {
        "id": "w40MWqr-VMlA"
      },
      "outputs": [],
      "source": [
        "# Eğitim veri seti doğruluğunu ölç\n",
        "train_efficientnetb4_score = model_efficientnetb4.evaluate(x_train, y_train)\n",
        "print(\"EfficientNetB4 Train Accuracy: \", train_efficientnetb4_score[1])\n",
        "\n",
        "# Test veri seti doğruluğunu ölç\n",
        "test_efficientnetb4_score = model_efficientnetb4.evaluate(x_test, y_test)\n",
        "print(\"\\nEfficientNetB4 Test Accuracy: \", test_efficientnetb4_score[1])\n",
        "\n",
        "# Doğrulama veri seti doğruluğunu ölç\n",
        "val_efficientnetb4_score = model_efficientnetb4.evaluate(x_val, y_val)\n",
        "print(\"\\nEfficientNetB4 Validation Accuracy: \", val_efficientnetb4_score[1])\n"
      ]
    },
    {
      "cell_type": "markdown",
      "metadata": {
        "id": "-c1Xw4-bVpSR"
      },
      "source": [
        "# EfficientNetB5"
      ]
    },
    {
      "cell_type": "code",
      "execution_count": null,
      "metadata": {
        "id": "7FerB9jTVMtC"
      },
      "outputs": [],
      "source": [
        "from tensorflow.keras.applications import EfficientNetB5\n",
        "from tensorflow.keras import models, layers\n",
        "\n",
        "# EfficientNetB1 için giriş katmanı\n",
        "input_layer = layers.Input(shape=(IMG_SIZE, IMG_SIZE, 3))\n",
        "\n",
        "# EfficientNetB1 modelini yükleyin\n",
        "model_efficientnetb5 = EfficientNetB5(weights='imagenet',\n",
        "                                      input_tensor=input_layer,\n",
        "                                      include_top=False)\n",
        "\n",
        "# Son katmanları ekleyin\n",
        "last_layer = model_efficientnetb5.output\n",
        "flatten = layers.Flatten()(last_layer)\n",
        "output_layer = layers.Dense(NUM_CLASSES, activation='softmax')(flatten)\n",
        "\n",
        "# Modeli tanımlayın\n",
        "model_efficientnetb5 = models.Model(inputs=input_layer, outputs=output_layer)\n"
      ]
    },
    {
      "cell_type": "code",
      "execution_count": null,
      "metadata": {
        "id": "HyMp3o0HVMz3"
      },
      "outputs": [],
      "source": [
        "for layer in model_efficientnetb5.layers[:-1]:\n",
        "    layer.trainable = False\n"
      ]
    },
    {
      "cell_type": "code",
      "execution_count": null,
      "metadata": {
        "id": "r-lEAAn3VM7m"
      },
      "outputs": [],
      "source": [
        "model_efficientnetb5.compile(\n",
        "    optimizer='adam',\n",
        "    loss='categorical_crossentropy',\n",
        "    metrics=['accuracy']\n",
        ")\n"
      ]
    },
    {
      "cell_type": "code",
      "execution_count": null,
      "metadata": {
        "id": "2a_2L2NIVNDa"
      },
      "outputs": [],
      "source": [
        "history_efficientnetb5 = model_efficientnetb5.fit(\n",
        "    x_train, y_train,\n",
        "    batch_size=BATCH_SIZE,\n",
        "    validation_data=(x_val, y_val),\n",
        "    epochs=EPOCHS\n",
        ")\n"
      ]
    },
    {
      "cell_type": "code",
      "execution_count": null,
      "metadata": {
        "id": "FiyAmKT1V5d1"
      },
      "outputs": [],
      "source": [
        "# Eğitim veri seti doğruluğunu ölç\n",
        "train_efficientnetb5_score = model_efficientnetb5.evaluate(x_train, y_train)\n",
        "print(\"EfficientNetB5 Train Accuracy: \", train_efficientnetb5_score[1])\n",
        "\n",
        "# Test veri seti doğruluğunu ölç\n",
        "test_efficientnetb5_score = model_efficientnetb5.evaluate(x_test, y_test)\n",
        "print(\"\\nEfficientNetB5 Test Accuracy: \", test_efficientnetb5_score[1])\n",
        "\n",
        "# Doğrulama veri seti doğruluğunu ölç\n",
        "val_efficientnetb5_score = model_efficientnetb5.evaluate(x_val, y_val)\n",
        "print(\"\\nEfficientNetB5 Validation Accuracy: \", val_efficientnetb5_score[1])\n"
      ]
    },
    {
      "cell_type": "markdown",
      "metadata": {
        "id": "zyL1wfGvWbY4"
      },
      "source": [
        "# EfficientNetB6"
      ]
    },
    {
      "cell_type": "code",
      "execution_count": null,
      "metadata": {
        "id": "YhDLXvzmV5lH"
      },
      "outputs": [],
      "source": [
        "from tensorflow.keras.applications import EfficientNetB6\n",
        "from tensorflow.keras import models, layers\n",
        "\n",
        "# EfficientNetB1 için giriş katmanı\n",
        "input_layer = layers.Input(shape=(IMG_SIZE, IMG_SIZE, 3))\n",
        "\n",
        "# EfficientNetB1 modelini yükleyin\n",
        "model_efficientnetb6 = EfficientNetB6(weights='imagenet',\n",
        "                                      input_tensor=input_layer,\n",
        "                                      include_top=False)\n",
        "\n",
        "# Son katmanları ekleyin\n",
        "last_layer = model_efficientnetb6.output\n",
        "flatten = layers.Flatten()(last_layer)\n",
        "output_layer = layers.Dense(NUM_CLASSES, activation='softmax')(flatten)\n",
        "\n",
        "# Modeli tanımlayın\n",
        "model_efficientnetb6 = models.Model(inputs=input_layer, outputs=output_layer)\n"
      ]
    },
    {
      "cell_type": "code",
      "execution_count": null,
      "metadata": {
        "id": "4ved4FVQV5tV"
      },
      "outputs": [],
      "source": [
        "for layer in model_efficientnetb6.layers[:-1]:\n",
        "    layer.trainable = False\n"
      ]
    },
    {
      "cell_type": "code",
      "execution_count": null,
      "metadata": {
        "id": "jhiEHcn7V51i"
      },
      "outputs": [],
      "source": [
        "model_efficientnetb6.compile(\n",
        "    optimizer='adam',\n",
        "    loss='categorical_crossentropy',\n",
        "    metrics=['accuracy']\n",
        ")\n"
      ]
    },
    {
      "cell_type": "code",
      "execution_count": null,
      "metadata": {
        "id": "E78qGUIAV59W"
      },
      "outputs": [],
      "source": [
        "history_efficientnetb6= model_efficientnetb6.fit(\n",
        "    x_train, y_train,\n",
        "    batch_size=BATCH_SIZE,\n",
        "    validation_data=(x_val, y_val),\n",
        "    epochs=EPOCHS\n",
        ")\n"
      ]
    },
    {
      "cell_type": "code",
      "execution_count": null,
      "metadata": {
        "id": "B9CmEXc8V6Fm"
      },
      "outputs": [],
      "source": [
        "# Eğitim veri seti doğruluğunu ölç\n",
        "train_efficientnetb6_score = model_efficientnetb6.evaluate(x_train, y_train)\n",
        "print(\"EfficientNetB6 Train Accuracy: \", train_efficientnetb6_score[1])\n",
        "\n",
        "# Test veri seti doğruluğunu ölç\n",
        "test_efficientnetb6_score = model_efficientnetb6.evaluate(x_test, y_test)\n",
        "print(\"\\nEfficientNetB6 Test Accuracy: \", test_efficientnetb6_score[1])\n",
        "\n",
        "# Doğrulama veri seti doğruluğunu ölç\n",
        "val_efficientnetb6_score = model_efficientnetb6.evaluate(x_val, y_val)\n",
        "print(\"\\nEfficientNetB6 Validation Accuracy: \", val_efficientnetb6_score[1])\n"
      ]
    },
    {
      "cell_type": "markdown",
      "metadata": {
        "id": "gpCYwDGaXALo"
      },
      "source": [
        "# EfficientNetB7"
      ]
    },
    {
      "cell_type": "code",
      "execution_count": null,
      "metadata": {
        "id": "luFVaLkWV6NU"
      },
      "outputs": [],
      "source": [
        "from tensorflow.keras.applications import EfficientNetB7\n",
        "from tensorflow.keras import models, layers\n",
        "\n",
        "# EfficientNetB1 için giriş katmanı\n",
        "input_layer = layers.Input(shape=(IMG_SIZE, IMG_SIZE, 3))\n",
        "\n",
        "# EfficientNetB1 modelini yükleyin\n",
        "model_efficientnetb7 = EfficientNetB7(weights='imagenet',\n",
        "                                      input_tensor=input_layer,\n",
        "                                      include_top=False)\n",
        "\n",
        "# Son katmanları ekleyin\n",
        "last_layer = model_efficientnetb7.output\n",
        "flatten = layers.Flatten()(last_layer)\n",
        "output_layer = layers.Dense(NUM_CLASSES, activation='softmax')(flatten)\n",
        "\n",
        "# Modeli tanımlayın\n",
        "model_efficientnetb7 = models.Model(inputs=input_layer, outputs=output_layer)\n"
      ]
    },
    {
      "cell_type": "code",
      "execution_count": null,
      "metadata": {
        "id": "N0z7M1BMV6T7"
      },
      "outputs": [],
      "source": [
        "for layer in model_efficientnetb7.layers[:-1]:\n",
        "    layer.trainable = False\n"
      ]
    },
    {
      "cell_type": "code",
      "execution_count": null,
      "metadata": {
        "id": "XYXRRuNnV6b_"
      },
      "outputs": [],
      "source": [
        "model_efficientnetb7.compile(\n",
        "    optimizer='adam',\n",
        "    loss='categorical_crossentropy',\n",
        "    metrics=['accuracy']\n",
        ")\n"
      ]
    },
    {
      "cell_type": "code",
      "execution_count": null,
      "metadata": {
        "id": "pEvAfIoIV6if"
      },
      "outputs": [],
      "source": [
        "history_efficientnetb7= model_efficientnetb7.fit(\n",
        "    x_train, y_train,\n",
        "    batch_size=BATCH_SIZE,\n",
        "    validation_data=(x_val, y_val),\n",
        "    epochs=EPOCHS\n",
        ")\n"
      ]
    },
    {
      "cell_type": "code",
      "execution_count": null,
      "metadata": {
        "id": "Zimswow3XNYS"
      },
      "outputs": [],
      "source": [
        "# Eğitim veri seti doğruluğunu ölç\n",
        "train_efficientnetb7_score = model_efficientnetb7.evaluate(x_train, y_train)\n",
        "print(\"EfficientNetB7 Train Accuracy: \", train_efficientnetb7_score[1])\n",
        "\n",
        "# Test veri seti doğruluğunu ölç\n",
        "test_efficientnetb7_score = model_efficientnetb7.evaluate(x_test, y_test)\n",
        "print(\"\\nEfficientNetB7 Test Accuracy: \", test_efficientnetb7_score[1])\n",
        "\n",
        "# Doğrulama veri seti doğruluğunu ölç\n",
        "val_efficientnetb7_score = model_efficientnetb7.evaluate(x_val, y_val)\n",
        "print(\"\\nEfficientNetB7 Validation Accuracy: \", val_efficientnetb7_score[1])\n"
      ]
    }
  ],
  "metadata": {
    "accelerator": "TPU",
    "colab": {
      "gpuType": "V28",
      "provenance": []
    },
    "kernelspec": {
      "display_name": "Python 3",
      "name": "python3"
    },
    "language_info": {
      "name": "python"
    }
  },
  "nbformat": 4,
  "nbformat_minor": 0
}